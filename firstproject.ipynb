{
  "nbformat": 4,
  "nbformat_minor": 0,
  "metadata": {
    "colab": {
      "name": "firstproject.ipynb",
      "provenance": [],
      "authorship_tag": "ABX9TyMYnPB0jQvDw/3I1R1NvoD5",
      "include_colab_link": true
    },
    "kernelspec": {
      "name": "python3",
      "display_name": "Python 3"
    },
    "language_info": {
      "name": "python"
    }
  },
  "cells": [
    {
      "cell_type": "markdown",
      "metadata": {
        "id": "view-in-github",
        "colab_type": "text"
      },
      "source": [
        "<a href=\"https://colab.research.google.com/github/dheer12345/codegeeko-data-science-course/blob/main/firstproject.ipynb\" target=\"_parent\"><img src=\"https://colab.research.google.com/assets/colab-badge.svg\" alt=\"Open In Colab\"/></a>"
      ]
    },
    {
      "cell_type": "code",
      "execution_count": null,
      "metadata": {
        "id": "G6Kyk7GEV8nK"
      },
      "outputs": [],
      "source": [
        "print(\"hello Jarvis\")"
      ]
    },
    {
      "cell_type": "markdown",
      "source": [
        "lets go i could be the greatest\n",
        "soon they will believe \n",
        "soon they will believe it\n",
        "that i will be the greatest cricketer"
      ],
      "metadata": {
        "id": "2VYEEm1FXGJp"
      }
    },
    {
      "cell_type": "code",
      "source": [
        "print(\"120 runs\")"
      ],
      "metadata": {
        "id": "OWvafiPgXiCI"
      },
      "execution_count": null,
      "outputs": []
    }
  ]
}